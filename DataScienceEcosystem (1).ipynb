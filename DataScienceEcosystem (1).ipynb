{
  "metadata": {
    "kernelspec": {
      "name": "python",
      "display_name": "Python (Pyodide)",
      "language": "python"
    },
    "language_info": {
      "codemirror_mode": {
        "name": "python",
        "version": 3
      },
      "file_extension": ".py",
      "mimetype": "text/x-python",
      "name": "python",
      "nbconvert_exporter": "python",
      "pygments_lexer": "ipython3",
      "version": "3.8"
    }
  },
  "nbformat_minor": 4,
  "nbformat": 4,
  "cells": [
    {
      "cell_type": "code",
      "source": "# Exercise 9 - Create a code cell to convert minutes to hours\n# his will convert 200 minutes to hours by diving by 60\na = 200/60\nprint( a)",
      "metadata": {
        "trusted": true
      },
      "outputs": [
        {
          "name": "stdout",
          "text": "3.3333333333333335\n",
          "output_type": "stream"
        }
      ],
      "execution_count": 8
    },
    {
      "cell_type": "code",
      "source": "# Exercise 8 - Create a code cell to multiply and add numbers\n\n# This a simple arithmetic expression to mutiply then add integers\na = (3*4) + 5\nprint(a)",
      "metadata": {
        "trusted": true
      },
      "outputs": [
        {
          "name": "stdout",
          "text": "17\n",
          "output_type": "stream"
        }
      ],
      "execution_count": 6
    },
    {
      "cell_type": "markdown",
      "source": "Exercise 7 - Create a markdown cell introducing arithmetic expression examples\n\nAdd a line in this cell with H3 style heading with text like:\n\n### Below are a few examples of evaluating arithmetic expressions in Python",
      "metadata": {}
    },
    {
      "cell_type": "markdown",
      "source": "# Exercise 6 - Create a markdown cell with a table of Data Science tools\n|Data Science Tools|\n|------------------|\n|JupyterLabs|\n|RStudio|\n|Visual Studio Code|",
      "metadata": {}
    },
    {
      "cell_type": "markdown",
      "source": "# Some of the commonly used libraries used by Data Scientists include:\n1. TensorFlow\n2. Pandas\n3. NumPy\n4. Matplotlib",
      "metadata": {}
    },
    {
      "cell_type": "markdown",
      "source": "# Some of the popular languages that Data Scientists use are:\n\n1. Python\n2. R\n3. Julia\n",
      "metadata": {}
    },
    {
      "cell_type": "markdown",
      "source": "# Data Science Tools and Ecosystem",
      "metadata": {}
    },
    {
      "cell_type": "markdown",
      "source": "## In this notebook, Data Science Tools and Ecosystem are summarized.",
      "metadata": {}
    },
    {
      "cell_type": "markdown",
      "source": "### Exercise 10 - Insert a markdown cell to list Objectives\n# Objectives\n* Python\n* R\n* Julia\n* Java",
      "metadata": {}
    },
    {
      "cell_type": "markdown",
      "source": "### Exercise 11 - Create a markdown cell to indicate the Author's name\n## Author\nAshish Mahajan",
      "metadata": {}
    }
  ]
}